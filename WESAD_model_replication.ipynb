{
  "nbformat": 4,
  "nbformat_minor": 0,
  "metadata": {
    "colab": {
      "name": "WESAD_model_replication.ipynb",
      "provenance": [],
      "collapsed_sections": [],
      "machine_shape": "hm"
    },
    "kernelspec": {
      "name": "python3",
      "display_name": "Python 3"
    }
  },
  "cells": [
    {
      "cell_type": "markdown",
      "metadata": {
        "id": "T0xZGU58imXo"
      },
      "source": [
        "\n",
        "Code to import files from drive\n"
      ]
    },
    {
      "cell_type": "code",
      "metadata": {
        "colab": {
          "base_uri": "https://localhost:8080/"
        },
        "id": "3IoZrCxpZ0x6",
        "outputId": "b8d93fd8-55df-4860-a063-0cef035f159c"
      },
      "source": [
        "! pip install PyDrive\n",
        "import os\n",
        "from pydrive.auth import GoogleAuth\n",
        "from pydrive.drive import GoogleDrive\n",
        "from google.colab import auth\n",
        "from oauth2client.client import GoogleCredentials"
      ],
      "execution_count": 2,
      "outputs": [
        {
          "output_type": "stream",
          "text": [
            "Requirement already satisfied: PyDrive in /usr/local/lib/python3.6/dist-packages (1.3.1)\n",
            "Requirement already satisfied: oauth2client>=4.0.0 in /usr/local/lib/python3.6/dist-packages (from PyDrive) (4.1.3)\n",
            "Requirement already satisfied: PyYAML>=3.0 in /usr/local/lib/python3.6/dist-packages (from PyDrive) (3.13)\n",
            "Requirement already satisfied: google-api-python-client>=1.2 in /usr/local/lib/python3.6/dist-packages (from PyDrive) (1.7.12)\n",
            "Requirement already satisfied: pyasn1>=0.1.7 in /usr/local/lib/python3.6/dist-packages (from oauth2client>=4.0.0->PyDrive) (0.4.8)\n",
            "Requirement already satisfied: rsa>=3.1.4 in /usr/local/lib/python3.6/dist-packages (from oauth2client>=4.0.0->PyDrive) (4.6)\n",
            "Requirement already satisfied: httplib2>=0.9.1 in /usr/local/lib/python3.6/dist-packages (from oauth2client>=4.0.0->PyDrive) (0.17.4)\n",
            "Requirement already satisfied: pyasn1-modules>=0.0.5 in /usr/local/lib/python3.6/dist-packages (from oauth2client>=4.0.0->PyDrive) (0.2.8)\n",
            "Requirement already satisfied: six>=1.6.1 in /usr/local/lib/python3.6/dist-packages (from oauth2client>=4.0.0->PyDrive) (1.15.0)\n",
            "Requirement already satisfied: uritemplate<4dev,>=3.0.0 in /usr/local/lib/python3.6/dist-packages (from google-api-python-client>=1.2->PyDrive) (3.0.1)\n",
            "Requirement already satisfied: google-auth>=1.4.1 in /usr/local/lib/python3.6/dist-packages (from google-api-python-client>=1.2->PyDrive) (1.17.2)\n",
            "Requirement already satisfied: google-auth-httplib2>=0.0.3 in /usr/local/lib/python3.6/dist-packages (from google-api-python-client>=1.2->PyDrive) (0.0.4)\n",
            "Requirement already satisfied: setuptools>=40.3.0 in /usr/local/lib/python3.6/dist-packages (from google-auth>=1.4.1->google-api-python-client>=1.2->PyDrive) (50.3.2)\n",
            "Requirement already satisfied: cachetools<5.0,>=2.0.0 in /usr/local/lib/python3.6/dist-packages (from google-auth>=1.4.1->google-api-python-client>=1.2->PyDrive) (4.1.1)\n"
          ],
          "name": "stdout"
        }
      ]
    },
    {
      "cell_type": "code",
      "metadata": {
        "id": "04UHpbDraBZ-"
      },
      "source": [
        "auth.authenticate_user()\n",
        "gauth = GoogleAuth()\n",
        "gauth.credentials = GoogleCredentials.get_application_default()\n",
        "drive = GoogleDrive(gauth)"
      ],
      "execution_count": 3,
      "outputs": []
    },
    {
      "cell_type": "code",
      "metadata": {
        "id": "BHpO5QYIaTSW"
      },
      "source": [
        "upload = drive.CreateFile({'id': '1jcE4BMo1-uS_ZbRrRyQfevMLX1UCGP6g'})\n",
        "upload.GetContentFile('respiban_a.csv')\n",
        "\n",
        "upload = drive.CreateFile({'id': '1kJp0aSQszAM32p6sgeuVtwAU9W3Yp5IX'})\n",
        "upload.GetContentFile('respiban_b.csv')"
      ],
      "execution_count": 4,
      "outputs": []
    },
    {
      "cell_type": "code",
      "metadata": {
        "colab": {
          "base_uri": "https://localhost:8080/",
          "height": 204
        },
        "id": "KIocBRXFXecz",
        "outputId": "784f11e4-a3e1-4ced-abe9-40ad89e1f9e1"
      },
      "source": [
        "import pandas as pd\n",
        "\n",
        "respiban_a = pd.read_csv(\"respiban_a.csv\")\n",
        "respiban_b = pd.read_csv(\"respiban_b.csv\")\n",
        "respibans = pd.concat([respiban_a, respiban_b], axis=1).reindex(respiban_a.index).drop(columns=[\"Unnamed: 0\"]).reset_index()\n",
        "\n",
        "respibans.head()"
      ],
      "execution_count": 2,
      "outputs": [
        {
          "output_type": "execute_result",
          "data": {
            "text/html": [
              "<div>\n",
              "<style scoped>\n",
              "    .dataframe tbody tr th:only-of-type {\n",
              "        vertical-align: middle;\n",
              "    }\n",
              "\n",
              "    .dataframe tbody tr th {\n",
              "        vertical-align: top;\n",
              "    }\n",
              "\n",
              "    .dataframe thead th {\n",
              "        text-align: right;\n",
              "    }\n",
              "</style>\n",
              "<table border=\"1\" class=\"dataframe\">\n",
              "  <thead>\n",
              "    <tr style=\"text-align: right;\">\n",
              "      <th></th>\n",
              "      <th>index</th>\n",
              "      <th>ECG</th>\n",
              "      <th>EMG</th>\n",
              "      <th>EDA</th>\n",
              "      <th>Temp</th>\n",
              "      <th>Resp</th>\n",
              "      <th>Condition</th>\n",
              "    </tr>\n",
              "  </thead>\n",
              "  <tbody>\n",
              "    <tr>\n",
              "      <th>0</th>\n",
              "      <td>0</td>\n",
              "      <td>0.021423</td>\n",
              "      <td>-0.004440</td>\n",
              "      <td>5.250549</td>\n",
              "      <td>30.120758</td>\n",
              "      <td>-1.148987</td>\n",
              "      <td>0</td>\n",
              "    </tr>\n",
              "    <tr>\n",
              "      <th>1</th>\n",
              "      <td>1</td>\n",
              "      <td>0.020325</td>\n",
              "      <td>0.004349</td>\n",
              "      <td>5.267334</td>\n",
              "      <td>30.129517</td>\n",
              "      <td>-1.124573</td>\n",
              "      <td>0</td>\n",
              "    </tr>\n",
              "    <tr>\n",
              "      <th>2</th>\n",
              "      <td>2</td>\n",
              "      <td>0.016525</td>\n",
              "      <td>0.005173</td>\n",
              "      <td>5.243301</td>\n",
              "      <td>30.138214</td>\n",
              "      <td>-1.152039</td>\n",
              "      <td>0</td>\n",
              "    </tr>\n",
              "    <tr>\n",
              "      <th>3</th>\n",
              "      <td>3</td>\n",
              "      <td>0.016708</td>\n",
              "      <td>0.007187</td>\n",
              "      <td>5.249405</td>\n",
              "      <td>30.129517</td>\n",
              "      <td>-1.158142</td>\n",
              "      <td>0</td>\n",
              "    </tr>\n",
              "    <tr>\n",
              "      <th>4</th>\n",
              "      <td>4</td>\n",
              "      <td>0.011673</td>\n",
              "      <td>-0.015152</td>\n",
              "      <td>5.286407</td>\n",
              "      <td>30.130951</td>\n",
              "      <td>-1.161194</td>\n",
              "      <td>0</td>\n",
              "    </tr>\n",
              "  </tbody>\n",
              "</table>\n",
              "</div>"
            ],
            "text/plain": [
              "   index       ECG       EMG       EDA       Temp      Resp  Condition\n",
              "0      0  0.021423 -0.004440  5.250549  30.120758 -1.148987          0\n",
              "1      1  0.020325  0.004349  5.267334  30.129517 -1.124573          0\n",
              "2      2  0.016525  0.005173  5.243301  30.138214 -1.152039          0\n",
              "3      3  0.016708  0.007187  5.249405  30.129517 -1.158142          0\n",
              "4      4  0.011673 -0.015152  5.286407  30.130951 -1.161194          0"
            ]
          },
          "metadata": {
            "tags": []
          },
          "execution_count": 2
        }
      ]
    },
    {
      "cell_type": "code",
      "metadata": {
        "colab": {
          "base_uri": "https://localhost:8080/"
        },
        "id": "WfZfaEQmgR_w",
        "outputId": "95bbbab4-6edb-4c9a-ab77-43415036453f"
      },
      "source": [
        "#Original authors said to disregard conditions 5-7 ; dropping them\n",
        "\n",
        "respiban = respibans[respibans['Condition'] <= 4]\n",
        "len(respiban)"
      ],
      "execution_count": 3,
      "outputs": [
        {
          "output_type": "execute_result",
          "data": {
            "text/plain": [
              "59125500"
            ]
          },
          "metadata": {
            "tags": []
          },
          "execution_count": 3
        }
      ]
    },
    {
      "cell_type": "markdown",
      "metadata": {
        "id": "NHAUPOC9iqTt"
      },
      "source": [
        "\n",
        "Model 1: All categories\n"
      ]
    },
    {
      "cell_type": "code",
      "metadata": {
        "id": "GUyeRglYXbcZ"
      },
      "source": [
        "from numpy.random import seed\n",
        "seed(1)\n",
        "\n",
        "import numpy as np\n",
        "\n",
        "import warnings\n",
        "warnings.simplefilter('ignore', FutureWarning)"
      ],
      "execution_count": 12,
      "outputs": []
    },
    {
      "cell_type": "code",
      "metadata": {
        "colab": {
          "base_uri": "https://localhost:8080/"
        },
        "id": "GLToXFUqi3J5",
        "outputId": "f0b5f0a1-9f6a-4e5f-b541-4dda8c7d2094"
      },
      "source": [
        "#After training a model on 5,000,000 rows of the original dataset, it appears that beyond 500,000 rows, accuracy may not improve.\n",
        "\n",
        "respiban_mini = respiban.sample(n=600000, random_state=1)\n",
        "\n",
        "X = respiban_mini.drop(\"Condition\", axis=1)\n",
        "y = respiban_mini[\"Condition\"]\n",
        "print(X.shape, y.shape)\n",
        "\n",
        "from sklearn.model_selection import train_test_split\n",
        "from sklearn.preprocessing import LabelEncoder, MinMaxScaler\n",
        "from tensorflow.keras.utils import to_categorical\n",
        "\n",
        "# scaling X (physiological data)\n",
        "X_train, X_test, y_train, y_test = train_test_split(\n",
        "    X, y, random_state=1)\n",
        "X_scaler = MinMaxScaler().fit(X_train)\n",
        "X_train_scaled = X_scaler.transform(X_train)\n",
        "X_test_scaled = X_scaler.transform(X_test)\n",
        "\n",
        "# One-hot-encoding y to avoid magnitude effects\n",
        "y_train_categorical = to_categorical(y_train)\n",
        "y_test_categorical = to_categorical(y_test)"
      ],
      "execution_count": 71,
      "outputs": [
        {
          "output_type": "stream",
          "text": [
            "(600000, 6) (600000,)\n"
          ],
          "name": "stdout"
        }
      ]
    },
    {
      "cell_type": "code",
      "metadata": {
        "id": "gxeMyNKckWgm"
      },
      "source": [
        "#Building model\n",
        "from tensorflow.keras.models import Sequential\n",
        "from tensorflow.keras.layers import Dense\n",
        "\n",
        "model = Sequential()\n",
        "model.add(Dense(units=12, activation='relu', input_dim=6))\n",
        "model.add(Dense(units=12, activation='relu'))\n",
        "model.add(Dense(units=12, activation='relu'))\n",
        "model.add(Dense(units=12, activation='relu'))\n",
        "model.add(Dense(units=12, activation='relu'))\n",
        "model.add(Dense(units=12, activation='relu'))\n",
        "model.add(Dense(units=5, activation='softmax'))"
      ],
      "execution_count": 72,
      "outputs": []
    },
    {
      "cell_type": "code",
      "metadata": {
        "id": "vGe-Kq2ckkVQ"
      },
      "source": [
        "#Running model\n",
        "model.compile(optimizer='adam',\n",
        "              loss='categorical_crossentropy',\n",
        "              metrics=['accuracy'])\n",
        "history = model.fit(\n",
        "    X_train_scaled,\n",
        "    y_train_categorical,\n",
        "    epochs=60,\n",
        "    shuffle=True,\n",
        "    verbose=0\n",
        ")"
      ],
      "execution_count": 73,
      "outputs": []
    },
    {
      "cell_type": "code",
      "metadata": {
        "id": "QsOvuiM3FR5G"
      },
      "source": [
        "history_a = model.fit(\n",
        "    X_test_scaled,\n",
        "    y_test_categorical,\n",
        "    epochs=60,\n",
        "    shuffle=True,\n",
        "    verbose=0\n",
        ")"
      ],
      "execution_count": 74,
      "outputs": []
    },
    {
      "cell_type": "code",
      "metadata": {
        "colab": {
          "base_uri": "https://localhost:8080/"
        },
        "id": "ZKlUcLZ4k6Lj",
        "outputId": "8972e3fb-06a5-423e-f915-d153c105dd50"
      },
      "source": [
        "model_loss, model_accuracy = model.evaluate(\n",
        "    X_train_scaled, y_train_categorical, verbose=2)\n",
        "print(\n",
        "    f\"Training - Loss: {model_loss}, Accuracy: {model_accuracy}\")\n",
        "\n",
        "model_loss2, model_accuracy2 = model.evaluate(\n",
        "    X_test_scaled, y_test_categorical, verbose=2)\n",
        "print(\n",
        "    f\"Testing - Loss: {model_loss2}, Accuracy: {model_accuracy2}\")"
      ],
      "execution_count": 97,
      "outputs": [
        {
          "output_type": "stream",
          "text": [
            "14063/14063 - 11s - loss: 0.5359 - accuracy: 0.7677\n",
            "Training - Loss: 0.53594571352005, Accuracy: 0.7677111029624939\n",
            "4688/4688 - 4s - loss: 0.5376 - accuracy: 0.7678\n",
            "Testing - Loss: 0.537642240524292, Accuracy: 0.7678466439247131\n"
          ],
          "name": "stdout"
        }
      ]
    },
    {
      "cell_type": "code",
      "metadata": {
        "colab": {
          "base_uri": "https://localhost:8080/",
          "height": 295
        },
        "id": "BCH3wYi5PECh",
        "outputId": "421d01a7-fe30-45ea-a4f6-61de4831fa16"
      },
      "source": [
        "from matplotlib.pyplot import figure\n",
        "import matplotlib.pyplot as plt\n",
        "\n",
        "plt.plot(history.history['accuracy'], label='model 1 training accuracy')\n",
        "plt.plot(history_a.history['accuracy'], label='model 1 testing accuracy')\n",
        "plt.title('model 1')\n",
        "plt.xlabel('No. epoch')\n",
        "plt.legend(loc=\"lower right\")\n",
        "fig1 = plt.gcf()\n",
        "fig1.savefig(\"model1.png\", figsize=(20, 14), dpi=200, facecolor='w', edgecolor='k')\n",
        "files.download(\"model1.png\")\n",
        "plt.show()"
      ],
      "execution_count": 83,
      "outputs": [
        {
          "output_type": "display_data",
          "data": {
            "application/javascript": [
              "\n",
              "    async function download(id, filename, size) {\n",
              "      if (!google.colab.kernel.accessAllowed) {\n",
              "        return;\n",
              "      }\n",
              "      const div = document.createElement('div');\n",
              "      const label = document.createElement('label');\n",
              "      label.textContent = `Downloading \"${filename}\": `;\n",
              "      div.appendChild(label);\n",
              "      const progress = document.createElement('progress');\n",
              "      progress.max = size;\n",
              "      div.appendChild(progress);\n",
              "      document.body.appendChild(div);\n",
              "\n",
              "      const buffers = [];\n",
              "      let downloaded = 0;\n",
              "\n",
              "      const channel = await google.colab.kernel.comms.open(id);\n",
              "      // Send a message to notify the kernel that we're ready.\n",
              "      channel.send({})\n",
              "\n",
              "      for await (const message of channel.messages) {\n",
              "        // Send a message to notify the kernel that we're ready.\n",
              "        channel.send({})\n",
              "        if (message.buffers) {\n",
              "          for (const buffer of message.buffers) {\n",
              "            buffers.push(buffer);\n",
              "            downloaded += buffer.byteLength;\n",
              "            progress.value = downloaded;\n",
              "          }\n",
              "        }\n",
              "      }\n",
              "      const blob = new Blob(buffers, {type: 'application/binary'});\n",
              "      const a = document.createElement('a');\n",
              "      a.href = window.URL.createObjectURL(blob);\n",
              "      a.download = filename;\n",
              "      div.appendChild(a);\n",
              "      a.click();\n",
              "      div.remove();\n",
              "    }\n",
              "  "
            ],
            "text/plain": [
              "<IPython.core.display.Javascript object>"
            ]
          },
          "metadata": {
            "tags": []
          }
        },
        {
          "output_type": "display_data",
          "data": {
            "application/javascript": [
              "download(\"download_64fc2fea-30ed-4a6d-9e4b-9b5fdc3e1c60\", \"model1.png\", 59629)"
            ],
            "text/plain": [
              "<IPython.core.display.Javascript object>"
            ]
          },
          "metadata": {
            "tags": []
          }
        },
        {
          "output_type": "display_data",
          "data": {
            "image/png": "[encoded data removed]",
            "text/plain": [
              "<Figure size 432x288 with 1 Axes>"
            ]
          },
          "metadata": {
            "tags": [],
            "needs_background": "light"
          }
        }
      ]
    },
    {
      "cell_type": "markdown",
      "metadata": {
        "id": "FS20TQkL_mLZ"
      },
      "source": [
        "Model 2: Baseline vs meditation"
      ]
    },
    {
      "cell_type": "code",
      "metadata": {
        "colab": {
          "base_uri": "https://localhost:8080/"
        },
        "id": "2qGwGIEcelpw",
        "outputId": "b90ac277-1a7f-454f-bef6-635c4a104a6d"
      },
      "source": [
        "respiban2 = respibans[respibans['Condition'].isin([\"1\",\"4\"])]\n",
        "respiban2_mini = respiban2.sample(n=600000, random_state=1)\n",
        "\n",
        "Xa = respiban2_mini.drop(\"Condition\", axis=1)\n",
        "ya = respiban2_mini[\"Condition\"]\n",
        "print(Xa.shape, ya.shape)\n",
        "\n",
        "from sklearn.model_selection import train_test_split\n",
        "from sklearn.preprocessing import LabelEncoder, MinMaxScaler\n",
        "from tensorflow.keras.utils import to_categorical\n",
        "\n",
        "# scaling X (physiological data)\n",
        "Xa_train, Xa_test, ya_train, ya_test = train_test_split(\n",
        "    Xa, ya, random_state=1)\n",
        "Xa_scaler = MinMaxScaler().fit(Xa_train)\n",
        "Xa_train_scaled = Xa_scaler.transform(Xa_train)\n",
        "Xa_test_scaled = Xa_scaler.transform(Xa_test)\n",
        "\n",
        "# One-hot-encoding y to avoid magnitude effects\n",
        "ya_train_categorical = to_categorical(ya_train)\n",
        "ya_test_categorical = to_categorical(ya_test)"
      ],
      "execution_count": 76,
      "outputs": [
        {
          "output_type": "stream",
          "text": [
            "(600000, 6) (600000,)\n"
          ],
          "name": "stdout"
        }
      ]
    },
    {
      "cell_type": "code",
      "metadata": {
        "id": "E9jIq0Fti12X"
      },
      "source": [
        "from tensorflow.keras.models import Sequential\n",
        "from tensorflow.keras.layers import Dense\n",
        "\n",
        "model2 = Sequential()\n",
        "model2.add(Dense(units=12, activation='relu', input_dim=6))\n",
        "model2.add(Dense(units=12, activation='relu'))\n",
        "model2.add(Dense(units=12, activation='relu'))\n",
        "model2.add(Dense(units=12, activation='relu'))\n",
        "model2.add(Dense(units=12, activation='relu'))\n",
        "model2.add(Dense(units=12, activation='relu'))\n",
        "model2.add(Dense(units=12, activation='relu'))\n",
        "model2.add(Dense(units=5, activation='softmax'))"
      ],
      "execution_count": 77,
      "outputs": []
    },
    {
      "cell_type": "code",
      "metadata": {
        "id": "VYEuOKxhi5Wl"
      },
      "source": [
        "\n",
        "model2.compile(optimizer='adam',\n",
        "              loss='categorical_crossentropy',\n",
        "              metrics=['accuracy'])\n",
        "history2 = model2.fit(\n",
        "    Xa_train_scaled,\n",
        "    ya_train_categorical,\n",
        "    epochs=60,\n",
        "    shuffle=True,\n",
        "    verbose=0\n",
        ")\n",
        "\n",
        "history2_a = model2.fit(\n",
        "    Xa_test_scaled,\n",
        "    ya_test_categorical,\n",
        "    epochs=60,\n",
        "    shuffle=True,\n",
        "    verbose=0\n",
        ")"
      ],
      "execution_count": 78,
      "outputs": []
    },
    {
      "cell_type": "code",
      "metadata": {
        "colab": {
          "base_uri": "https://localhost:8080/"
        },
        "id": "jt2Hpda_i6EE",
        "outputId": "987bff5e-9720-4917-b038-2fb17dc137fc"
      },
      "source": [
        "model_loss3, model_accuracy3 = model2.evaluate(\n",
        "    Xa_train_scaled, ya_train_categorical, verbose=2)\n",
        "print(\n",
        "    f\"Train - Loss: {model_loss3}, Accuracy: {model_accuracy3}\")\n",
        "\n",
        "model_loss4, model_accuracy4 = model2.evaluate(\n",
        "    Xa_test_scaled, ya_test_categorical, verbose=2)\n",
        "print(\n",
        "    f\"Test - Loss: {model_loss4}, Accuracy: {model_accuracy4}\")"
      ],
      "execution_count": 79,
      "outputs": [
        {
          "output_type": "stream",
          "text": [
            "14063/14063 - 11s - loss: 3.0014e-04 - accuracy: 0.9999\n",
            "Train - Loss: 0.0003001404111273587, Accuracy: 0.9999310970306396\n",
            "4688/4688 - 4s - loss: 3.3931e-04 - accuracy: 0.9999\n",
            "Test - Loss: 0.00033931105281226337, Accuracy: 0.999893307685852\n"
          ],
          "name": "stdout"
        }
      ]
    },
    {
      "cell_type": "code",
      "metadata": {
        "colab": {
          "base_uri": "https://localhost:8080/",
          "height": 295
        },
        "id": "_Ugg8dIqbjBA",
        "outputId": "dc11e7cd-e1a2-4c96-e1fe-5034b0353dc9"
      },
      "source": [
        "plt.plot(history2.history['accuracy'], label='model 2 training accuracy')\n",
        "plt.plot(history2_a.history['accuracy'], label='model 2 testing accuracy')\n",
        "plt.title('model 2')\n",
        "plt.xlabel('No. epoch')\n",
        "plt.legend(loc=\"lower right\")\n",
        "fig1 = plt.gcf()\n",
        "fig1.savefig(\"model2.png\", figsize=(20, 14), dpi=200, facecolor='w', edgecolor='k')\n",
        "files.download(\"model2.png\")\n",
        "plt.show()"
      ],
      "execution_count": 80,
      "outputs": [
        {
          "output_type": "display_data",
          "data": {
            "application/javascript": [
              "\n",
              "    async function download(id, filename, size) {\n",
              "      if (!google.colab.kernel.accessAllowed) {\n",
              "        return;\n",
              "      }\n",
              "      const div = document.createElement('div');\n",
              "      const label = document.createElement('label');\n",
              "      label.textContent = `Downloading \"${filename}\": `;\n",
              "      div.appendChild(label);\n",
              "      const progress = document.createElement('progress');\n",
              "      progress.max = size;\n",
              "      div.appendChild(progress);\n",
              "      document.body.appendChild(div);\n",
              "\n",
              "      const buffers = [];\n",
              "      let downloaded = 0;\n",
              "\n",
              "      const channel = await google.colab.kernel.comms.open(id);\n",
              "      // Send a message to notify the kernel that we're ready.\n",
              "      channel.send({})\n",
              "\n",
              "      for await (const message of channel.messages) {\n",
              "        // Send a message to notify the kernel that we're ready.\n",
              "        channel.send({})\n",
              "        if (message.buffers) {\n",
              "          for (const buffer of message.buffers) {\n",
              "            buffers.push(buffer);\n",
              "            downloaded += buffer.byteLength;\n",
              "            progress.value = downloaded;\n",
              "          }\n",
              "        }\n",
              "      }\n",
              "      const blob = new Blob(buffers, {type: 'application/binary'});\n",
              "      const a = document.createElement('a');\n",
              "      a.href = window.URL.createObjectURL(blob);\n",
              "      a.download = filename;\n",
              "      div.appendChild(a);\n",
              "      a.click();\n",
              "      div.remove();\n",
              "    }\n",
              "  "
            ],
            "text/plain": [
              "<IPython.core.display.Javascript object>"
            ]
          },
          "metadata": {
            "tags": []
          }
        },
        {
          "output_type": "display_data",
          "data": {
            "application/javascript": [
              "download(\"download_59364035-67ea-40d0-be08-023b5aceb1c2\", \"model2.png\", 64362)"
            ],
            "text/plain": [
              "<IPython.core.display.Javascript object>"
            ]
          },
          "metadata": {
            "tags": []
          }
        },
        {
          "output_type": "display_data",
          "data": {
            "image/png": "[encoded data removed]",
            "text/plain": [
              "<Figure size 432x288 with 1 Axes>"
            ]
          },
          "metadata": {
            "tags": [],
            "needs_background": "light"
          }
        }
      ]
    },
    {
      "cell_type": "markdown",
      "metadata": {
        "id": "-c_iihGsDXpC"
      },
      "source": [
        "Model 3: Amusement vs Stress"
      ]
    },
    {
      "cell_type": "code",
      "metadata": {
        "colab": {
          "base_uri": "https://localhost:8080/"
        },
        "id": "YnddJ5a4DSoi",
        "outputId": "1d71988c-562c-48a3-b4b5-a68d922d4fa4"
      },
      "source": [
        "respiban3 = respibans[respibans['Condition'].isin([\"2\",\"3\"])]\n",
        "respiban3_mini = respiban3.sample(n=600000, random_state=1)\n",
        "\n",
        "X3 = respiban3_mini.drop(\"Condition\", axis=1)\n",
        "y3 = respiban3_mini[\"Condition\"]\n",
        "print(X3.shape, y3.shape)\n",
        "\n",
        "from sklearn.model_selection import train_test_split\n",
        "from sklearn.preprocessing import LabelEncoder, MinMaxScaler\n",
        "from tensorflow.keras.utils import to_categorical\n",
        "\n",
        "# scaling X (physiological data)\n",
        "X3_train, X3_test, y3_train, y3_test = train_test_split(\n",
        "    X3, y3, random_state=1)\n",
        "X3_scaler = MinMaxScaler().fit(X3_train)\n",
        "X3_train_scaled = X3_scaler.transform(X3_train)\n",
        "X3_test_scaled = X3_scaler.transform(X3_test)\n",
        "\n",
        "# One-hot-encoding y to avoid magnitude effects\n",
        "y3_train_categorical = to_categorical(y3_train)\n",
        "y3_test_categorical = to_categorical(y3_test)"
      ],
      "execution_count": 5,
      "outputs": [
        {
          "output_type": "stream",
          "text": [
            "(600000, 6) (600000,)\n"
          ],
          "name": "stdout"
        }
      ]
    },
    {
      "cell_type": "code",
      "metadata": {
        "id": "V8fxQ48DD8DS"
      },
      "source": [
        "from tensorflow.keras.models import Sequential\n",
        "from tensorflow.keras.layers import Dense\n",
        "\n",
        "model3 = Sequential()\n",
        "model3.add(Dense(units=12, activation='relu', input_dim=6))\n",
        "model3.add(Dense(units=12, activation='relu'))\n",
        "model3.add(Dense(units=12, activation='relu'))\n",
        "model3.add(Dense(units=12, activation='relu'))\n",
        "model3.add(Dense(units=12, activation='relu'))\n",
        "model3.add(Dense(units=4, activation='softmax'))"
      ],
      "execution_count": 12,
      "outputs": []
    },
    {
      "cell_type": "code",
      "metadata": {
        "id": "4ZJ7D7x9D8MB"
      },
      "source": [
        "#adding history object to create a graph, & increasing epochs\n",
        "model3.compile(optimizer='adam',\n",
        "              loss='categorical_crossentropy',\n",
        "              metrics=['accuracy'])\n",
        "history3 = model3.fit(\n",
        "    X3_train_scaled,\n",
        "    y3_train_categorical,\n",
        "    epochs=40,\n",
        "    shuffle=True,\n",
        "    verbose=0\n",
        ")\n",
        "\n",
        "history3_a = model3.fit(\n",
        "    X3_test_scaled,\n",
        "    y3_test_categorical,\n",
        "    epochs=40,\n",
        "    shuffle=True,\n",
        "    verbose=0\n",
        ")"
      ],
      "execution_count": 13,
      "outputs": []
    },
    {
      "cell_type": "code",
      "metadata": {
        "colab": {
          "base_uri": "https://localhost:8080/"
        },
        "id": "gSD6f8sAD8YY",
        "outputId": "94670041-6178-49f1-b1c3-aad3afc38602"
      },
      "source": [
        "model_loss5, model_accuracy5= model3.evaluate(\n",
        "    X3_train_scaled, y3_train_categorical, verbose=2)\n",
        "print(\n",
        "    f\"Train - Loss: {model_loss5}, Accuracy: {model_accuracy5}\")\n",
        "\n",
        "model_loss6, model_accuracy6 = model3.evaluate(\n",
        "    X3_test_scaled, y3_test_categorical, verbose=2)\n",
        "print(\n",
        "    f\"Test - Loss: {model_loss6}, Accuracy: {model_accuracy6}\")"
      ],
      "execution_count": 14,
      "outputs": [
        {
          "output_type": "stream",
          "text": [
            "14063/14063 - 11s - loss: 4.4434e-05 - accuracy: 1.0000\n",
            "Train - Loss: 4.443406578502618e-05, Accuracy: 1.0\n",
            "4688/4688 - 4s - loss: 4.1514e-05 - accuracy: 1.0000\n",
            "Test - Loss: 4.151419489062391e-05, Accuracy: 1.0\n"
          ],
          "name": "stdout"
        }
      ]
    },
    {
      "cell_type": "code",
      "metadata": {
        "colab": {
          "base_uri": "https://localhost:8080/",
          "height": 295
        },
        "id": "n9MvXaanRFEx",
        "outputId": "7610cfd9-ed07-4792-e213-b67264d45493"
      },
      "source": [
        "from matplotlib.pyplot import figure\n",
        "import matplotlib.pyplot as plt\n",
        "\n",
        "plt.plot(history3.history['accuracy'], label='model 3 training accuracy')\n",
        "plt.plot(history3_a.history['accuracy'], label='model 3 testing accuracy')\n",
        "plt.title('model 3')\n",
        "plt.xlabel('No. epoch')\n",
        "plt.legend(loc=\"lower right\")\n",
        "fig1 = plt.gcf()\n",
        "fig1.savefig(\"model3.png\", figsize=(20, 14), dpi=200, facecolor='w', edgecolor='k')\n",
        "files.download(\"model3.png\")\n",
        "plt.show()"
      ],
      "execution_count": 81,
      "outputs": [
        {
          "output_type": "display_data",
          "data": {
            "application/javascript": [
              "\n",
              "    async function download(id, filename, size) {\n",
              "      if (!google.colab.kernel.accessAllowed) {\n",
              "        return;\n",
              "      }\n",
              "      const div = document.createElement('div');\n",
              "      const label = document.createElement('label');\n",
              "      label.textContent = `Downloading \"${filename}\": `;\n",
              "      div.appendChild(label);\n",
              "      const progress = document.createElement('progress');\n",
              "      progress.max = size;\n",
              "      div.appendChild(progress);\n",
              "      document.body.appendChild(div);\n",
              "\n",
              "      const buffers = [];\n",
              "      let downloaded = 0;\n",
              "\n",
              "      const channel = await google.colab.kernel.comms.open(id);\n",
              "      // Send a message to notify the kernel that we're ready.\n",
              "      channel.send({})\n",
              "\n",
              "      for await (const message of channel.messages) {\n",
              "        // Send a message to notify the kernel that we're ready.\n",
              "        channel.send({})\n",
              "        if (message.buffers) {\n",
              "          for (const buffer of message.buffers) {\n",
              "            buffers.push(buffer);\n",
              "            downloaded += buffer.byteLength;\n",
              "            progress.value = downloaded;\n",
              "          }\n",
              "        }\n",
              "      }\n",
              "      const blob = new Blob(buffers, {type: 'application/binary'});\n",
              "      const a = document.createElement('a');\n",
              "      a.href = window.URL.createObjectURL(blob);\n",
              "      a.download = filename;\n",
              "      div.appendChild(a);\n",
              "      a.click();\n",
              "      div.remove();\n",
              "    }\n",
              "  "
            ],
            "text/plain": [
              "<IPython.core.display.Javascript object>"
            ]
          },
          "metadata": {
            "tags": []
          }
        },
        {
          "output_type": "display_data",
          "data": {
            "application/javascript": [
              "download(\"download_8ba7d2df-c044-4ddb-b07f-c93054f934bb\", \"model3.png\", 56626)"
            ],
            "text/plain": [
              "<IPython.core.display.Javascript object>"
            ]
          },
          "metadata": {
            "tags": []
          }
        },
        {
          "output_type": "display_data",
          "data": {
            "image/png": "[encoded data removed]",
            "text/plain": [
              "<Figure size 432x288 with 1 Axes>"
            ]
          },
          "metadata": {
            "tags": [],
            "needs_background": "light"
          }
        }
      ]
    },
    {
      "cell_type": "markdown",
      "metadata": {
        "id": "ucznM3RxD9kM"
      },
      "source": [
        "Model 4: Baseline vs Stress"
      ]
    },
    {
      "cell_type": "code",
      "metadata": {
        "colab": {
          "base_uri": "https://localhost:8080/"
        },
        "id": "zkVS30tojxuz",
        "outputId": "916f3b2b-9678-412c-85ce-65a22743b642"
      },
      "source": [
        "#Running a two-category model to get a higher accuracy score\n",
        "respiban4 = respibans[respibans['Condition'].isin([\"1\",\"2\"])]\n",
        "respiban4_mini = respiban4.sample(n=600000, random_state=1)\n",
        "X4 = respiban4_mini.drop(\"Condition\", axis=1)\n",
        "y4 = respiban4_mini[\"Condition\"]\n",
        "print(X4.shape, y4.shape)\n",
        "\n",
        "from sklearn.model_selection import train_test_split\n",
        "from sklearn.preprocessing import LabelEncoder, MinMaxScaler\n",
        "from tensorflow.keras.utils import to_categorical\n",
        "\n",
        "# scaling X (physiological data)\n",
        "X4_train, X4_test, y4_train, y4_test = train_test_split(\n",
        "    X4, y4, random_state=1)\n",
        "X4_scaler = MinMaxScaler().fit(X4_train)\n",
        "X4_train_scaled = X4_scaler.transform(X4_train)\n",
        "X4_test_scaled = X4_scaler.transform(X4_test)\n",
        "\n",
        "# One-hot-encoding y to avoid magnitude effects\n",
        "y4_train_categorical = to_categorical(y4_train)\n",
        "y4_test_categorical = to_categorical(y4_test)"
      ],
      "execution_count": 19,
      "outputs": [
        {
          "output_type": "stream",
          "text": [
            "(600000, 6) (600000,)\n"
          ],
          "name": "stdout"
        }
      ]
    },
    {
      "cell_type": "code",
      "metadata": {
        "id": "AUmOYauEkF0T"
      },
      "source": [
        "model4 = Sequential()\n",
        "model4.add(Dense(units=12, activation='relu', input_dim=6))\n",
        "model4.add(Dense(units=12, activation='relu'))\n",
        "model4.add(Dense(units=12, activation='relu'))\n",
        "model4.add(Dense(units=12, activation='relu'))\n",
        "model4.add(Dense(units=12, activation='relu'))\n",
        "model4.add(Dense(units=3, activation='softmax'))"
      ],
      "execution_count": 20,
      "outputs": []
    },
    {
      "cell_type": "code",
      "metadata": {
        "id": "2ZyWZVw3kM9B"
      },
      "source": [
        "model4.compile(optimizer='adam',\n",
        "              loss='categorical_crossentropy',\n",
        "              metrics=['accuracy'])\n",
        "history4 = model4.fit(\n",
        "    X4_train_scaled,\n",
        "    y4_train_categorical,\n",
        "    epochs=40,\n",
        "    shuffle=True,\n",
        "    verbose=0\n",
        ")\n",
        "\n",
        "history4_a = model4.fit(\n",
        "    X4_test_scaled,\n",
        "    y4_test_categorical,\n",
        "    epochs=40,\n",
        "    shuffle=True,\n",
        "    verbose=0\n",
        ")"
      ],
      "execution_count": 21,
      "outputs": []
    },
    {
      "cell_type": "code",
      "metadata": {
        "colab": {
          "base_uri": "https://localhost:8080/"
        },
        "id": "IGeFqgR1wmO2",
        "outputId": "57e76737-656d-4567-e284-2cf443f45e9d"
      },
      "source": [
        "model_loss7, model_accuracy7 = model4.evaluate(\n",
        "    X4_train_scaled, y4_train_categorical, verbose=2)\n",
        "print(\n",
        "    f\"Train - Loss: {model_loss7}, Accuracy: {model_accuracy7}\")\n",
        "\n",
        "model_loss8, model_accuracy8 = model4.evaluate(\n",
        "    X4_test_scaled, y4_test_categorical, verbose=2)\n",
        "print(\n",
        "    f\"Test - Loss: {model_loss8}, Accuracy: {model_accuracy8}\")"
      ],
      "execution_count": 22,
      "outputs": [
        {
          "output_type": "stream",
          "text": [
            "14063/14063 - 11s - loss: 0.0018 - accuracy: 0.9999\n",
            "Train - Loss: 0.001755035831592977, Accuracy: 0.9999088644981384\n",
            "4688/4688 - 4s - loss: 0.0013 - accuracy: 0.9999\n",
            "Test - Loss: 0.0013239870313555002, Accuracy: 0.9999133348464966\n"
          ],
          "name": "stdout"
        }
      ]
    },
    {
      "cell_type": "code",
      "metadata": {
        "colab": {
          "base_uri": "https://localhost:8080/",
          "height": 295
        },
        "id": "PNOw7ivXDQnn",
        "outputId": "855ad2d6-8d09-4ca5-bea9-dbeb567a95e4"
      },
      "source": [
        "plt.plot(history4.history['accuracy'], label='model 4 training accuracy')\n",
        "plt.plot(history4_a.history['accuracy'], label='model 4 testing accuracy')\n",
        "plt.title('model 4')\n",
        "plt.xlabel('No. epoch')\n",
        "plt.legend(loc=\"lower right\")\n",
        "fig4 = plt.gcf()\n",
        "fig4.savefig(\"model4.png\", figsize=(20, 14), dpi=200, facecolor='w', edgecolor='k')\n",
        "files.download(\"model4.png\")\n",
        "plt.show()"
      ],
      "execution_count": 85,
      "outputs": [
        {
          "output_type": "display_data",
          "data": {
            "application/javascript": [
              "\n",
              "    async function download(id, filename, size) {\n",
              "      if (!google.colab.kernel.accessAllowed) {\n",
              "        return;\n",
              "      }\n",
              "      const div = document.createElement('div');\n",
              "      const label = document.createElement('label');\n",
              "      label.textContent = `Downloading \"${filename}\": `;\n",
              "      div.appendChild(label);\n",
              "      const progress = document.createElement('progress');\n",
              "      progress.max = size;\n",
              "      div.appendChild(progress);\n",
              "      document.body.appendChild(div);\n",
              "\n",
              "      const buffers = [];\n",
              "      let downloaded = 0;\n",
              "\n",
              "      const channel = await google.colab.kernel.comms.open(id);\n",
              "      // Send a message to notify the kernel that we're ready.\n",
              "      channel.send({})\n",
              "\n",
              "      for await (const message of channel.messages) {\n",
              "        // Send a message to notify the kernel that we're ready.\n",
              "        channel.send({})\n",
              "        if (message.buffers) {\n",
              "          for (const buffer of message.buffers) {\n",
              "            buffers.push(buffer);\n",
              "            downloaded += buffer.byteLength;\n",
              "            progress.value = downloaded;\n",
              "          }\n",
              "        }\n",
              "      }\n",
              "      const blob = new Blob(buffers, {type: 'application/binary'});\n",
              "      const a = document.createElement('a');\n",
              "      a.href = window.URL.createObjectURL(blob);\n",
              "      a.download = filename;\n",
              "      div.appendChild(a);\n",
              "      a.click();\n",
              "      div.remove();\n",
              "    }\n",
              "  "
            ],
            "text/plain": [
              "<IPython.core.display.Javascript object>"
            ]
          },
          "metadata": {
            "tags": []
          }
        },
        {
          "output_type": "display_data",
          "data": {
            "application/javascript": [
              "download(\"download_6f74dfdf-129b-4e41-90fc-f000bd96ef16\", \"model4.png\", 53353)"
            ],
            "text/plain": [
              "<IPython.core.display.Javascript object>"
            ]
          },
          "metadata": {
            "tags": []
          }
        },
        {
          "output_type": "display_data",
          "data": {
            "image/png": "[encoded data removed]",
            "text/plain": [
              "<Figure size 432x288 with 1 Axes>"
            ]
          },
          "metadata": {
            "tags": [],
            "needs_background": "light"
          }
        }
      ]
    },
    {
      "cell_type": "markdown",
      "metadata": {
        "id": "LGJ2D_DhWYTL"
      },
      "source": [
        "Plotting Subjects"
      ]
    },
    {
      "cell_type": "code",
      "metadata": {
        "colab": {
          "base_uri": "https://localhost:8080/",
          "height": 295
        },
        "id": "Q8naak7FWfw0",
        "outputId": "304482fb-a9fc-48d1-86ec-1fd44f8ac3d4"
      },
      "source": [
        "#used the lengths of each individual subject file\n",
        "S2 = respibans.iloc[0:4255300]\n",
        "S3 = respibans.iloc[4255301:4255300+4545100]\n",
        "S4 = respibans.iloc[4255300+4545100:4255300+4545100+4496100]\n",
        "S5 = respibans.iloc[4255300+4545100+4496100:4255300+4545100+4496100+4380600]\n",
        "S6 = respibans.iloc[4255300+4545100+4496100+4380600:4255300+4545100+4496100+4380600+4949700]\n",
        "\n",
        "from google.colab import files\n",
        "plt.plot(S2['ECG'], label='ECG')\n",
        "plt.plot(S2['EMG'], label='EMG')\n",
        "plt.plot(S2['EDA'], label='EDA')\n",
        "\n",
        "fig1 = plt.gcf()\n",
        "plt.title('Subject 2')\n",
        "plt.xlabel('Time')\n",
        "plt.legend(loc=\"upper right\")\n",
        "fig1.savefig(\"2.png\", figsize=(20, 14), dpi=200, facecolor='w', edgecolor='k')\n",
        "files.download(\"2.png\")\n",
        "plt.show()"
      ],
      "execution_count": 63,
      "outputs": [
        {
          "output_type": "display_data",
          "data": {
            "application/javascript": [
              "\n",
              "    async function download(id, filename, size) {\n",
              "      if (!google.colab.kernel.accessAllowed) {\n",
              "        return;\n",
              "      }\n",
              "      const div = document.createElement('div');\n",
              "      const label = document.createElement('label');\n",
              "      label.textContent = `Downloading \"${filename}\": `;\n",
              "      div.appendChild(label);\n",
              "      const progress = document.createElement('progress');\n",
              "      progress.max = size;\n",
              "      div.appendChild(progress);\n",
              "      document.body.appendChild(div);\n",
              "\n",
              "      const buffers = [];\n",
              "      let downloaded = 0;\n",
              "\n",
              "      const channel = await google.colab.kernel.comms.open(id);\n",
              "      // Send a message to notify the kernel that we're ready.\n",
              "      channel.send({})\n",
              "\n",
              "      for await (const message of channel.messages) {\n",
              "        // Send a message to notify the kernel that we're ready.\n",
              "        channel.send({})\n",
              "        if (message.buffers) {\n",
              "          for (const buffer of message.buffers) {\n",
              "            buffers.push(buffer);\n",
              "            downloaded += buffer.byteLength;\n",
              "            progress.value = downloaded;\n",
              "          }\n",
              "        }\n",
              "      }\n",
              "      const blob = new Blob(buffers, {type: 'application/binary'});\n",
              "      const a = document.createElement('a');\n",
              "      a.href = window.URL.createObjectURL(blob);\n",
              "      a.download = filename;\n",
              "      div.appendChild(a);\n",
              "      a.click();\n",
              "      div.remove();\n",
              "    }\n",
              "  "
            ],
            "text/plain": [
              "<IPython.core.display.Javascript object>"
            ]
          },
          "metadata": {
            "tags": []
          }
        },
        {
          "output_type": "display_data",
          "data": {
            "application/javascript": [
              "download(\"download_ccb7e0fa-1f44-4af7-84d0-f43c48535fce\", \"2.png\", 67562)"
            ],
            "text/plain": [
              "<IPython.core.display.Javascript object>"
            ]
          },
          "metadata": {
            "tags": []
          }
        },
        {
          "output_type": "display_data",
          "data": {
            "image/png": "[encoded data removed]",
            "text/plain": [
              "<Figure size 432x288 with 1 Axes>"
            ]
          },
          "metadata": {
            "tags": [],
            "needs_background": "light"
          }
        }
      ]
    },
    {
      "cell_type": "code",
      "metadata": {
        "colab": {
          "base_uri": "https://localhost:8080/",
          "height": 295
        },
        "id": "OXR3Z2JOYMIN",
        "outputId": "00b736b3-c147-4957-ad65-fa69bfe4cc45"
      },
      "source": [
        "plt.plot(S3['ECG'], label='ECG')\n",
        "plt.plot(S3['EMG'], label='EMG')\n",
        "plt.plot(S3['EDA'], label='EDA')\n",
        "\n",
        "fig1 = plt.gcf()\n",
        "plt.title('Subject 3')\n",
        "plt.xlabel('Time')\n",
        "plt.legend(loc=\"upper right\")\n",
        "fig1.savefig(\"3.png\", figsize=(20, 14), dpi=200, facecolor='w', edgecolor='k')\n",
        "files.download(\"3.png\")\n",
        "plt.show()"
      ],
      "execution_count": 64,
      "outputs": [
        {
          "output_type": "display_data",
          "data": {
            "application/javascript": [
              "\n",
              "    async function download(id, filename, size) {\n",
              "      if (!google.colab.kernel.accessAllowed) {\n",
              "        return;\n",
              "      }\n",
              "      const div = document.createElement('div');\n",
              "      const label = document.createElement('label');\n",
              "      label.textContent = `Downloading \"${filename}\": `;\n",
              "      div.appendChild(label);\n",
              "      const progress = document.createElement('progress');\n",
              "      progress.max = size;\n",
              "      div.appendChild(progress);\n",
              "      document.body.appendChild(div);\n",
              "\n",
              "      const buffers = [];\n",
              "      let downloaded = 0;\n",
              "\n",
              "      const channel = await google.colab.kernel.comms.open(id);\n",
              "      // Send a message to notify the kernel that we're ready.\n",
              "      channel.send({})\n",
              "\n",
              "      for await (const message of channel.messages) {\n",
              "        // Send a message to notify the kernel that we're ready.\n",
              "        channel.send({})\n",
              "        if (message.buffers) {\n",
              "          for (const buffer of message.buffers) {\n",
              "            buffers.push(buffer);\n",
              "            downloaded += buffer.byteLength;\n",
              "            progress.value = downloaded;\n",
              "          }\n",
              "        }\n",
              "      }\n",
              "      const blob = new Blob(buffers, {type: 'application/binary'});\n",
              "      const a = document.createElement('a');\n",
              "      a.href = window.URL.createObjectURL(blob);\n",
              "      a.download = filename;\n",
              "      div.appendChild(a);\n",
              "      a.click();\n",
              "      div.remove();\n",
              "    }\n",
              "  "
            ],
            "text/plain": [
              "<IPython.core.display.Javascript object>"
            ]
          },
          "metadata": {
            "tags": []
          }
        },
        {
          "output_type": "display_data",
          "data": {
            "application/javascript": [
              "download(\"download_e025f356-cda5-4e58-bb00-7eea40e878a8\", \"3.png\", 69299)"
            ],
            "text/plain": [
              "<IPython.core.display.Javascript object>"
            ]
          },
          "metadata": {
            "tags": []
          }
        },
        {
          "output_type": "display_data",
          "data": {
            "image/png": "[encoded data removed]",
            "text/plain": [
              "<Figure size 432x288 with 1 Axes>"
            ]
          },
          "metadata": {
            "tags": [],
            "needs_background": "light"
          }
        }
      ]
    },
    {
      "cell_type": "code",
      "metadata": {
        "colab": {
          "base_uri": "https://localhost:8080/",
          "height": 295
        },
        "id": "Y4Y8j_xoYNZ8",
        "outputId": "dfcf17c3-39f1-4e8d-84de-07f31760de86"
      },
      "source": [
        "plt.plot(S4['ECG'], label='ECG')\n",
        "plt.plot(S4['EMG'], label='EMG')\n",
        "plt.plot(S4['EDA'], label='EDA')\n",
        "\n",
        "fig1 = plt.gcf()\n",
        "plt.title('Subject 4')\n",
        "plt.xlabel('Time')\n",
        "plt.legend(loc=\"upper right\")\n",
        "fig1.savefig(\"4.png\", figsize=(20, 14), dpi=200, facecolor='w', edgecolor='k')\n",
        "files.download(\"4.png\")\n",
        "plt.show()"
      ],
      "execution_count": 65,
      "outputs": [
        {
          "output_type": "display_data",
          "data": {
            "application/javascript": [
              "\n",
              "    async function download(id, filename, size) {\n",
              "      if (!google.colab.kernel.accessAllowed) {\n",
              "        return;\n",
              "      }\n",
              "      const div = document.createElement('div');\n",
              "      const label = document.createElement('label');\n",
              "      label.textContent = `Downloading \"${filename}\": `;\n",
              "      div.appendChild(label);\n",
              "      const progress = document.createElement('progress');\n",
              "      progress.max = size;\n",
              "      div.appendChild(progress);\n",
              "      document.body.appendChild(div);\n",
              "\n",
              "      const buffers = [];\n",
              "      let downloaded = 0;\n",
              "\n",
              "      const channel = await google.colab.kernel.comms.open(id);\n",
              "      // Send a message to notify the kernel that we're ready.\n",
              "      channel.send({})\n",
              "\n",
              "      for await (const message of channel.messages) {\n",
              "        // Send a message to notify the kernel that we're ready.\n",
              "        channel.send({})\n",
              "        if (message.buffers) {\n",
              "          for (const buffer of message.buffers) {\n",
              "            buffers.push(buffer);\n",
              "            downloaded += buffer.byteLength;\n",
              "            progress.value = downloaded;\n",
              "          }\n",
              "        }\n",
              "      }\n",
              "      const blob = new Blob(buffers, {type: 'application/binary'});\n",
              "      const a = document.createElement('a');\n",
              "      a.href = window.URL.createObjectURL(blob);\n",
              "      a.download = filename;\n",
              "      div.appendChild(a);\n",
              "      a.click();\n",
              "      div.remove();\n",
              "    }\n",
              "  "
            ],
            "text/plain": [
              "<IPython.core.display.Javascript object>"
            ]
          },
          "metadata": {
            "tags": []
          }
        },
        {
          "output_type": "display_data",
          "data": {
            "application/javascript": [
              "download(\"download_4adbe247-1c1d-4b3a-b933-f4448b9659d6\", \"4.png\", 65089)"
            ],
            "text/plain": [
              "<IPython.core.display.Javascript object>"
            ]
          },
          "metadata": {
            "tags": []
          }
        },
        {
          "output_type": "display_data",
          "data": {
            "image/png": "[encoded data removed]",
            "text/plain": [
              "<Figure size 432x288 with 1 Axes>"
            ]
          },
          "metadata": {
            "tags": [],
            "needs_background": "light"
          }
        }
      ]
    },
    {
      "cell_type": "code",
      "metadata": {
        "colab": {
          "base_uri": "https://localhost:8080/",
          "height": 295
        },
        "id": "SibtsQZtYN0N",
        "outputId": "135b80ca-f98d-46a2-a421-c0e772c3e792"
      },
      "source": [
        "plt.plot(S5['ECG'], label='ECG')\n",
        "plt.plot(S5['EMG'], label='EMG')\n",
        "plt.plot(S5['EDA'], label='EDA')\n",
        "\n",
        "fig1 = plt.gcf()\n",
        "plt.title('Subject 5')\n",
        "plt.xlabel('Time')\n",
        "plt.legend(loc=\"upper right\")\n",
        "fig1.savefig(\"5.png\", figsize=(20, 14), dpi=200, facecolor='w', edgecolor='k')\n",
        "files.download(\"5.png\")\n",
        "plt.show()"
      ],
      "execution_count": 66,
      "outputs": [
        {
          "output_type": "display_data",
          "data": {
            "application/javascript": [
              "\n",
              "    async function download(id, filename, size) {\n",
              "      if (!google.colab.kernel.accessAllowed) {\n",
              "        return;\n",
              "      }\n",
              "      const div = document.createElement('div');\n",
              "      const label = document.createElement('label');\n",
              "      label.textContent = `Downloading \"${filename}\": `;\n",
              "      div.appendChild(label);\n",
              "      const progress = document.createElement('progress');\n",
              "      progress.max = size;\n",
              "      div.appendChild(progress);\n",
              "      document.body.appendChild(div);\n",
              "\n",
              "      const buffers = [];\n",
              "      let downloaded = 0;\n",
              "\n",
              "      const channel = await google.colab.kernel.comms.open(id);\n",
              "      // Send a message to notify the kernel that we're ready.\n",
              "      channel.send({})\n",
              "\n",
              "      for await (const message of channel.messages) {\n",
              "        // Send a message to notify the kernel that we're ready.\n",
              "        channel.send({})\n",
              "        if (message.buffers) {\n",
              "          for (const buffer of message.buffers) {\n",
              "            buffers.push(buffer);\n",
              "            downloaded += buffer.byteLength;\n",
              "            progress.value = downloaded;\n",
              "          }\n",
              "        }\n",
              "      }\n",
              "      const blob = new Blob(buffers, {type: 'application/binary'});\n",
              "      const a = document.createElement('a');\n",
              "      a.href = window.URL.createObjectURL(blob);\n",
              "      a.download = filename;\n",
              "      div.appendChild(a);\n",
              "      a.click();\n",
              "      div.remove();\n",
              "    }\n",
              "  "
            ],
            "text/plain": [
              "<IPython.core.display.Javascript object>"
            ]
          },
          "metadata": {
            "tags": []
          }
        },
        {
          "output_type": "display_data",
          "data": {
            "application/javascript": [
              "download(\"download_bdb5af42-ee16-42b5-8db8-c9cbf2ab7424\", \"5.png\", 70463)"
            ],
            "text/plain": [
              "<IPython.core.display.Javascript object>"
            ]
          },
          "metadata": {
            "tags": []
          }
        },
        {
          "output_type": "display_data",
          "data": {
            "image/png": "[encoded data removed]",
            "text/plain": [
              "<Figure size 432x288 with 1 Axes>"
            ]
          },
          "metadata": {
            "tags": [],
            "needs_background": "light"
          }
        }
      ]
    },
    {
      "cell_type": "code",
      "metadata": {
        "colab": {
          "base_uri": "https://localhost:8080/",
          "height": 295
        },
        "id": "wRyv2yOlYOJN",
        "outputId": "90242a42-47a8-47c3-81d3-6a99946627b0"
      },
      "source": [
        "plt.plot(S6['ECG'], label='ECG')\n",
        "plt.plot(S6['EMG'], label='EMG')\n",
        "plt.plot(S6['EDA'], label='EDA')\n",
        "\n",
        "fig1 = plt.gcf()\n",
        "\n",
        "plt.title('Subject 6')\n",
        "plt.xlabel('Time')\n",
        "plt.legend(loc=\"upper right\")\n",
        "# figure(num=None)\n",
        "fig1.savefig(\"6.png\", figsize=(20, 14), dpi=200, facecolor='w', edgecolor='k')\n",
        "files.download(\"6.png\")\n",
        "plt.show()"
      ],
      "execution_count": 67,
      "outputs": [
        {
          "output_type": "display_data",
          "data": {
            "application/javascript": [
              "\n",
              "    async function download(id, filename, size) {\n",
              "      if (!google.colab.kernel.accessAllowed) {\n",
              "        return;\n",
              "      }\n",
              "      const div = document.createElement('div');\n",
              "      const label = document.createElement('label');\n",
              "      label.textContent = `Downloading \"${filename}\": `;\n",
              "      div.appendChild(label);\n",
              "      const progress = document.createElement('progress');\n",
              "      progress.max = size;\n",
              "      div.appendChild(progress);\n",
              "      document.body.appendChild(div);\n",
              "\n",
              "      const buffers = [];\n",
              "      let downloaded = 0;\n",
              "\n",
              "      const channel = await google.colab.kernel.comms.open(id);\n",
              "      // Send a message to notify the kernel that we're ready.\n",
              "      channel.send({})\n",
              "\n",
              "      for await (const message of channel.messages) {\n",
              "        // Send a message to notify the kernel that we're ready.\n",
              "        channel.send({})\n",
              "        if (message.buffers) {\n",
              "          for (const buffer of message.buffers) {\n",
              "            buffers.push(buffer);\n",
              "            downloaded += buffer.byteLength;\n",
              "            progress.value = downloaded;\n",
              "          }\n",
              "        }\n",
              "      }\n",
              "      const blob = new Blob(buffers, {type: 'application/binary'});\n",
              "      const a = document.createElement('a');\n",
              "      a.href = window.URL.createObjectURL(blob);\n",
              "      a.download = filename;\n",
              "      div.appendChild(a);\n",
              "      a.click();\n",
              "      div.remove();\n",
              "    }\n",
              "  "
            ],
            "text/plain": [
              "<IPython.core.display.Javascript object>"
            ]
          },
          "metadata": {
            "tags": []
          }
        },
        {
          "output_type": "display_data",
          "data": {
            "application/javascript": [
              "download(\"download_a1264cec-684b-4f5c-80b7-017d9fdf7214\", \"6.png\", 71321)"
            ],
            "text/plain": [
              "<IPython.core.display.Javascript object>"
            ]
          },
          "metadata": {
            "tags": []
          }
        },
        {
          "output_type": "display_data",
          "data": {
            "image/png": "[encoded data removed]",
            "text/plain": [
              "<Figure size 432x288 with 1 Axes>"
            ]
          },
          "metadata": {
            "tags": [],
            "needs_background": "light"
          }
        }
      ]
    }
  ]
}